{
 "cells": [
  {
   "cell_type": "markdown",
   "metadata": {},
   "source": [
    "# Download the example data from the Cloudnet dataportal"
   ]
  },
  {
   "cell_type": "code",
   "execution_count": 1,
   "metadata": {},
   "outputs": [],
   "source": [
    "import sys, os\n",
    "root_dir = os.path.abspath('..')"
   ]
  },
  {
   "cell_type": "markdown",
   "metadata": {},
   "source": [
    "### For stand-alone VOODOO processing you need to download the LVL0 binary files from rpg-fmcw-94 Doppler cloud radar and the corresponding categorization file from the Cloudnet dataportal."
   ]
  },
  {
   "cell_type": "code",
   "execution_count": 3,
   "metadata": {},
   "outputs": [],
   "source": [
    "# Create a directory for the LVL0 binary files and change directory\n",
    "rpg_files_dir = os.path.join(root_dir, 'sample_data', 'rpg-fmcw-94')\n",
    "os.makedirs(rpg_files_dir, exist_ok=True)\n",
    "os.chdir(rpg_files_dir)"
   ]
  },
  {
   "cell_type": "code",
   "execution_count": null,
   "metadata": {},
   "outputs": [],
   "source": [
    "# Download the LVL0 binary files\n",
    "!curl \"https://cloudnet.fmi.fi/api/raw-files?dateFrom=2023-02-17&dateTo=2023-02-17&site=eriswil&instrument=rpg-fmcw-94&filenameSuffix=.LV0\" | jq '.[][\"downloadUrl\"]' | xargs -n1 curl -O"
   ]
  },
  {
   "cell_type": "code",
   "execution_count": 13,
   "metadata": {},
   "outputs": [
    {
     "name": "stdout",
     "output_type": "stream",
     "text": [
      "  % Total    % Received % Xferd  Average Speed   Time    Time     Time  Current\n",
      "                                 Dload  Upload   Total   Spent    Left  Speed\n",
      "100  1137    0  1137    0     0  10227      0 --:--:-- --:--:-- --:--:-- 10243\n",
      "  % Total    % Received % Xferd  Average Speed   Time    Time     Time  Current\n",
      "                                 Dload  Upload   Total   Spent    Left  Speed\n",
      "100  146k  100  146k    0     0   571k      0 --:--:-- --:--:-- --:--:--  570k\n"
     ]
    }
   ],
   "source": [
    "# Categorization file\n",
    "classification_files_dir = os.path.join(root_dir, 'sample_data', 'classification')\n",
    "os.makedirs(classification_files_dir, exist_ok=True)\n",
    "os.chdir(classification_files_dir)\n",
    "!curl \"https://cloudnet.fmi.fi/api/files?dateFrom=2023-02-17&dateTo=2023-02-17&site=eriswil&product=classification\" | jq '.[][\"downloadUrl\"]' | xargs -n1 curl -O"
   ]
  },
  {
   "cell_type": "code",
   "execution_count": null,
   "metadata": {},
   "outputs": [],
   "source": []
  },
  {
   "cell_type": "code",
   "execution_count": null,
   "metadata": {},
   "outputs": [],
   "source": []
  }
 ],
 "metadata": {
  "kernelspec": {
   "display_name": "voodoo_tutorial",
   "language": "python",
   "name": "python3"
  },
  "language_info": {
   "codemirror_mode": {
    "name": "ipython",
    "version": 3
   },
   "file_extension": ".py",
   "mimetype": "text/x-python",
   "name": "python",
   "nbconvert_exporter": "python",
   "pygments_lexer": "ipython3",
   "version": "3.11.11"
  }
 },
 "nbformat": 4,
 "nbformat_minor": 2
}
