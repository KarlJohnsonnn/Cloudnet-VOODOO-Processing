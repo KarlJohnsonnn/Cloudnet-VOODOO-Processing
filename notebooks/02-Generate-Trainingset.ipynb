{
 "cells": [
  {
   "cell_type": "markdown",
   "metadata": {},
   "source": [
    "# 02-Generate-Trainingset.ipynb\n",
    "\n",
    "## Generate a training set from the example data downloaded in the previous notebook\n"
   ]
  },
  {
   "cell_type": "code",
   "execution_count": 1,
   "metadata": {},
   "outputs": [
    {
     "name": "stderr",
     "output_type": "stream",
     "text": [
      "/opt/homebrew/Caskroom/miniconda/base/envs/voodoo_tutorial/lib/python3.11/site-packages/tqdm/auto.py:21: TqdmWarning: IProgress not found. Please update jupyter and ipywidgets. See https://ipywidgets.readthedocs.io/en/stable/user_install.html\n",
      "  from .autonotebook import tqdm as notebook_tqdm\n"
     ]
    }
   ],
   "source": [
    "import sys, os\n",
    "\n",
    "root_dir = os.path.abspath('..')\n",
    "sys.path.append(root_dir)\n",
    "\n",
    "import glob\n",
    "import torch\n",
    "import xarray as xr\n",
    "import numpy as np\n",
    "import matplotlib\n",
    "import matplotlib.pyplot as plt\n",
    "from datetime import datetime\n",
    "\n",
    "import voodoonet\n"
   ]
  },
  {
   "cell_type": "markdown",
   "metadata": {},
   "source": [
    "# Fetch the LV0 files from the sample data directory\n"
   ]
  },
  {
   "cell_type": "code",
   "execution_count": 2,
   "metadata": {},
   "outputs": [
    {
     "name": "stdout",
     "output_type": "stream",
     "text": [
      "Found 24 LV0 files\n"
     ]
    }
   ],
   "source": [
    "# fetch the LV0 files\n",
    "rpg_lv0_files_dir = os.path.join(root_dir, 'sample_data', 'rpg-fmcw-94', '*.LV0')\n",
    "all_lv0_files = sorted(glob.glob(rpg_lv0_files_dir))\n",
    "print(f'Found {len(all_lv0_files)} LV0 files')"
   ]
  },
  {
   "cell_type": "code",
   "execution_count": 3,
   "metadata": {},
   "outputs": [
    {
     "name": "stdout",
     "output_type": "stream",
     "text": [
      "Found 1 classification files\n"
     ]
    }
   ],
   "source": [
    "# fetch the classification file name\n",
    "class_files_dir = os.path.join(root_dir, 'sample_data', 'classification', '*.nc')\n",
    "class_files = sorted(glob.glob(class_files_dir))\n",
    "print(f'Found {len(class_files)} classification files')"
   ]
  },
  {
   "cell_type": "markdown",
   "metadata": {},
   "source": [
    "# Split the LV0 into 10 folds "
   ]
  },
  {
   "cell_type": "code",
   "execution_count": 4,
   "metadata": {},
   "outputs": [
    {
     "name": "stdout",
     "output_type": "stream",
     "text": [
      "Fold number 0 has 3 files :: ['/Users/schimmel/code/voodoo_tutorial/Cloudnet-VOODOO-Processing/sample_data/rpg-fmcw-94/230217_000004_P03_ZEN.LV0', '/Users/schimmel/code/voodoo_tutorial/Cloudnet-VOODOO-Processing/sample_data/rpg-fmcw-94/230217_100004_P03_ZEN.LV0', '/Users/schimmel/code/voodoo_tutorial/Cloudnet-VOODOO-Processing/sample_data/rpg-fmcw-94/230217_200001_P03_ZEN.LV0']\n",
      "Fold number 1 has 3 files :: ['/Users/schimmel/code/voodoo_tutorial/Cloudnet-VOODOO-Processing/sample_data/rpg-fmcw-94/230217_010000_P03_ZEN.LV0', '/Users/schimmel/code/voodoo_tutorial/Cloudnet-VOODOO-Processing/sample_data/rpg-fmcw-94/230217_110000_P03_ZEN.LV0', '/Users/schimmel/code/voodoo_tutorial/Cloudnet-VOODOO-Processing/sample_data/rpg-fmcw-94/230217_210002_P03_ZEN.LV0']\n",
      "Fold number 2 has 3 files :: ['/Users/schimmel/code/voodoo_tutorial/Cloudnet-VOODOO-Processing/sample_data/rpg-fmcw-94/230217_020002_P03_ZEN.LV0', '/Users/schimmel/code/voodoo_tutorial/Cloudnet-VOODOO-Processing/sample_data/rpg-fmcw-94/230217_120001_P03_ZEN.LV0', '/Users/schimmel/code/voodoo_tutorial/Cloudnet-VOODOO-Processing/sample_data/rpg-fmcw-94/230217_220003_P03_ZEN.LV0']\n",
      "Fold number 3 has 3 files :: ['/Users/schimmel/code/voodoo_tutorial/Cloudnet-VOODOO-Processing/sample_data/rpg-fmcw-94/230217_030003_P03_ZEN.LV0', '/Users/schimmel/code/voodoo_tutorial/Cloudnet-VOODOO-Processing/sample_data/rpg-fmcw-94/230217_130003_P03_ZEN.LV0', '/Users/schimmel/code/voodoo_tutorial/Cloudnet-VOODOO-Processing/sample_data/rpg-fmcw-94/230217_230001_P03_ZEN.LV0']\n",
      "Fold number 4 has 2 files :: ['/Users/schimmel/code/voodoo_tutorial/Cloudnet-VOODOO-Processing/sample_data/rpg-fmcw-94/230217_040003_P03_ZEN.LV0', '/Users/schimmel/code/voodoo_tutorial/Cloudnet-VOODOO-Processing/sample_data/rpg-fmcw-94/230217_140002_P03_ZEN.LV0']\n",
      "Fold number 5 has 2 files :: ['/Users/schimmel/code/voodoo_tutorial/Cloudnet-VOODOO-Processing/sample_data/rpg-fmcw-94/230217_050004_P03_ZEN.LV0', '/Users/schimmel/code/voodoo_tutorial/Cloudnet-VOODOO-Processing/sample_data/rpg-fmcw-94/230217_150003_P03_ZEN.LV0']\n",
      "Fold number 6 has 2 files :: ['/Users/schimmel/code/voodoo_tutorial/Cloudnet-VOODOO-Processing/sample_data/rpg-fmcw-94/230217_060000_P03_ZEN.LV0', '/Users/schimmel/code/voodoo_tutorial/Cloudnet-VOODOO-Processing/sample_data/rpg-fmcw-94/230217_160000_P03_ZEN.LV0']\n",
      "Fold number 7 has 2 files :: ['/Users/schimmel/code/voodoo_tutorial/Cloudnet-VOODOO-Processing/sample_data/rpg-fmcw-94/230217_070002_P03_ZEN.LV0', '/Users/schimmel/code/voodoo_tutorial/Cloudnet-VOODOO-Processing/sample_data/rpg-fmcw-94/230217_170001_P03_ZEN.LV0']\n",
      "Fold number 8 has 2 files :: ['/Users/schimmel/code/voodoo_tutorial/Cloudnet-VOODOO-Processing/sample_data/rpg-fmcw-94/230217_080004_P03_ZEN.LV0', '/Users/schimmel/code/voodoo_tutorial/Cloudnet-VOODOO-Processing/sample_data/rpg-fmcw-94/230217_180001_P03_ZEN.LV0']\n",
      "Fold number 9 has 2 files :: ['/Users/schimmel/code/voodoo_tutorial/Cloudnet-VOODOO-Processing/sample_data/rpg-fmcw-94/230217_090003_P03_ZEN.LV0', '/Users/schimmel/code/voodoo_tutorial/Cloudnet-VOODOO-Processing/sample_data/rpg-fmcw-94/230217_190004_P03_ZEN.LV0']\n"
     ]
    }
   ],
   "source": [
    "# fold number 0 to 9 in a list\n",
    "fn_X = []\n",
    "\n",
    "for i in range(10):\n",
    "    fn_X.append(all_lv0_files[i::10]) # use every 10th file\n",
    "    print(f'Fold number {i} has {len(fn_X[i])} files :: {fn_X[i]}')\n"
   ]
  },
  {
   "cell_type": "code",
   "execution_count": null,
   "metadata": {},
   "outputs": [],
   "source": []
  },
  {
   "cell_type": "code",
   "execution_count": 5,
   "metadata": {},
   "outputs": [
    {
     "name": "stdout",
     "output_type": "stream",
     "text": [
      "Training data set saved to /Users/schimmel/code/voodoo_tutorial/Cloudnet-VOODOO-Processing/sample_data/training_datasets/training-data-set-eriswil--60-5dBZ.pt\n",
      "Training data set saved to /Users/schimmel/code/voodoo_tutorial/Cloudnet-VOODOO-Processing/sample_data/training_datasets/training-data-set-eriswil--55-10dBZ.pt\n",
      "Training data set saved to /Users/schimmel/code/voodoo_tutorial/Cloudnet-VOODOO-Processing/sample_data/training_datasets/training-data-set-eriswil--50-20dBZ.pt\n"
     ]
    }
   ],
   "source": [
    "z_limits_list = [(-60, 5), (-55, 10), (-50, 20)]\n",
    "\n",
    "\n",
    "for z_limits in z_limits_list:\n",
    "    # generate training data set\n",
    "    model_options = voodoonet.utils.VoodooOptions(\n",
    "        device=\"mps\",           # use `mps` for training on MacOS, `cuda:X` for NVIDIA GPUs, else `cpu`\n",
    "        z_limits = z_limits    # spectrum normalization limits in dBZ, controls sensitivity of the model, usually minimum and maximum values of the data set\n",
    "        )\n",
    "\n",
    "    # define output file name\n",
    "    current_date = datetime.now().strftime('%Y%m%d_%H%M%S')\n",
    "    training_dataset_dir = os.path.join(root_dir, 'sample_data', 'training_datasets')\n",
    "    training_dataset_file = f'training-data-set-eriswil-{model_options.z_limits[0]}-{model_options.z_limits[1]}dBZ.pt'\n",
    "    training_dataset_file = os.path.join(training_dataset_dir, training_dataset_file)\n",
    "\n",
    "    voodoonet.generate_training_data(all_lv0_files, class_files, training_dataset_file, options=model_options)\n",
    "\n",
    "    print(f'Training data set saved to {os.path.abspath(training_dataset_file)}')"
   ]
  },
  {
   "cell_type": "code",
   "execution_count": null,
   "metadata": {},
   "outputs": [],
   "source": []
  },
  {
   "cell_type": "code",
   "execution_count": null,
   "metadata": {},
   "outputs": [],
   "source": []
  }
 ],
 "metadata": {
  "kernelspec": {
   "display_name": "voodoo_tutorial",
   "language": "python",
   "name": "python3"
  },
  "language_info": {
   "codemirror_mode": {
    "name": "ipython",
    "version": 3
   },
   "file_extension": ".py",
   "mimetype": "text/x-python",
   "name": "python",
   "nbconvert_exporter": "python",
   "pygments_lexer": "ipython3",
   "version": "3.11.11"
  }
 },
 "nbformat": 4,
 "nbformat_minor": 2
}
